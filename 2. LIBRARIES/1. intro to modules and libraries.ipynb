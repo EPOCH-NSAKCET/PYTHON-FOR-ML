{
 "cells": [
  {
   "cell_type": "markdown",
   "id": "6c08984d-e824-4024-aca1-adb1343344c4",
   "metadata": {},
   "source": [
    "# Libraries in  Python"
   ]
  },
  {
   "cell_type": "markdown",
   "id": "d9b7bfd5-8dee-41d8-a6e2-578cdb816a8f",
   "metadata": {},
   "source": [
    "## Introduction to Libraries in Machine Learning\n",
    "What are Libraries?"
   ]
  },
  {
   "cell_type": "code",
   "execution_count": 5,
   "id": "4f663d26-3029-4d90-9fa8-00ba52575fb7",
   "metadata": {},
   "outputs": [
    {
     "name": "stdout",
     "output_type": "stream",
     "text": [
      "Requirement already satisfied: numpy in c:\\users\\mohda\\appdata\\local\\programs\\python\\python311\\lib\\site-packages (1.23.5)\n"
     ]
    }
   ],
   "source": [
    "!pip install numpy"
   ]
  },
  {
   "cell_type": "code",
   "execution_count": 6,
   "id": "168fc023-018b-4444-9287-853585524a60",
   "metadata": {},
   "outputs": [],
   "source": [
    "import numpy as np"
   ]
  },
  {
   "cell_type": "markdown",
   "id": "79f65e10-a00a-4815-b6ec-f1be2b08fa6a",
   "metadata": {},
   "source": [
    "### **2. Creating Arrays**\n",
    "\n",
    "Arrays are the central data structure in NumPy. You can create 1D, 2D, or even 3D arrays to store data."
   ]
  },
  {
   "cell_type": "code",
   "execution_count": 14,
   "id": "a0f5a8ee-b685-46dd-8e13-fc902e78ed49",
   "metadata": {},
   "outputs": [
    {
     "name": "stdout",
     "output_type": "stream",
     "text": [
      "[[1. 2. 3. 4. 5.]\n",
      " [1. 2. 3. 4. 8.]]\n"
     ]
    },
    {
     "data": {
      "text/plain": [
       "(2, 5)"
      ]
     },
     "execution_count": 14,
     "metadata": {},
     "output_type": "execute_result"
    }
   ],
   "source": [
    "\n",
    "# Creating a 1D array\n",
    "arr_1d = np.array([[1, 2, 3, 4, 5],[1, 2, 3, 4.,8]])\n",
    "print( arr_1d)\n",
    "arr_1d.shape"
   ]
  },
  {
   "cell_type": "code",
   "execution_count": 15,
   "id": "17ed417d-54f0-455f-adfe-6ff364628b5f",
   "metadata": {},
   "outputs": [
    {
     "name": "stdout",
     "output_type": "stream",
     "text": [
      "2D Array:\n",
      " [[1 2 3]\n",
      " [4 5 6]]\n"
     ]
    }
   ],
   "source": [
    "# Creating a 2D array\n",
    "arr_2d = np.array([[1, 2, 3], [4, 5, 6]])\n",
    "print(\"2D Array:\\n\", arr_2d)"
   ]
  },
  {
   "cell_type": "code",
   "execution_count": null,
   "id": "78738640-0aec-461f-a767-4855bd590629",
   "metadata": {},
   "outputs": [],
   "source": [
    "# Creating a 3D array\n",
    "arr_3d = np.array([[[1, 2], [3, 4]], [[5, 6], [7, 8]]])\n",
    "print(\"3D Array:\\n\", arr_3d)"
   ]
  },
  {
   "cell_type": "code",
   "execution_count": 16,
   "id": "0b53bb9d-f57f-42e0-a7a8-b1e2bfeca895",
   "metadata": {},
   "outputs": [
    {
     "name": "stdout",
     "output_type": "stream",
     "text": [
      "Addition:\n",
      " [11 22 33]\n",
      "Multiplication:\n",
      " [10 40 90]\n"
     ]
    }
   ],
   "source": [
    "#element wise operation\n",
    "arr1 = np.array([10, 20, 30])\n",
    "arr2 = np.array([1, 2, 3])\n",
    "sum_arr = arr1 + arr2\n",
    "mul_arr = arr1 * arr2\n",
    "print(\"Addition:\\n\", sum_arr)\n",
    "print(\"Multiplication:\\n\", mul_arr)"
   ]
  },
  {
   "cell_type": "code",
   "execution_count": 19,
   "id": "d0a6717b-a31d-4bc5-a3cc-cac7ca9f9879",
   "metadata": {},
   "outputs": [
    {
     "data": {
      "text/plain": [
       "array([[19, 22],\n",
       "       [43, 50]])"
      ]
     },
     "execution_count": 19,
     "metadata": {},
     "output_type": "execute_result"
    }
   ],
   "source": [
    "#matrix multiplication\n",
    "matrix1 = np.array([[1, 2], [3, 4]])\n",
    "matrix2 = np.array([[5, 6], [7, 8]])\n",
    "result = np.dot(matrix1, matrix2)\n",
    "result"
   ]
  },
  {
   "cell_type": "code",
   "execution_count": 25,
   "id": "2c979a19-d493-4a8a-8123-8b45c5df7c9c",
   "metadata": {},
   "outputs": [
    {
     "name": "stdout",
     "output_type": "stream",
     "text": [
      "[[1 2 3 4 5 6]] (1, 6)\n"
     ]
    },
    {
     "data": {
      "text/plain": [
       "array([[1, 2, 3],\n",
       "       [4, 5, 6]])"
      ]
     },
     "execution_count": 25,
     "metadata": {},
     "output_type": "execute_result"
    }
   ],
   "source": [
    "#reshaping\n",
    "arr = np.array([[1, 2, 3, 4, 5, 6]])\n",
    "print(arr,arr.shape)\n",
    "reshaped_arr = arr.reshape((2, 3))\n",
    "reshaped_arr"
   ]
  },
  {
   "cell_type": "code",
   "execution_count": 26,
   "id": "c5180888-6b6a-4969-8907-7e92d7577424",
   "metadata": {},
   "outputs": [
    {
     "name": "stdout",
     "output_type": "stream",
     "text": [
      "Random Values:\n",
      " [[0.52327612 0.49768497 0.25643218]\n",
      " [0.45142369 0.44864168 0.76311869]\n",
      " [0.48461287 0.26860659 0.36621342]]\n"
     ]
    }
   ],
   "source": [
    "# Random number generation\n",
    "random_values = np.random.rand(3, 3)\n",
    "print(\"Random Values:\\n\", random_values)"
   ]
  },
  {
   "cell_type": "code",
   "execution_count": null,
   "id": "d1b49732-abaf-441c-9735-0134f010dce8",
   "metadata": {},
   "outputs": [],
   "source": []
  }
 ],
 "metadata": {
  "kernelspec": {
   "display_name": "Python 3 (ipykernel)",
   "language": "python",
   "name": "python3"
  },
  "language_info": {
   "codemirror_mode": {
    "name": "ipython",
    "version": 3
   },
   "file_extension": ".py",
   "mimetype": "text/x-python",
   "name": "python",
   "nbconvert_exporter": "python",
   "pygments_lexer": "ipython3",
   "version": "3.11.1"
  }
 },
 "nbformat": 4,
 "nbformat_minor": 5
}
