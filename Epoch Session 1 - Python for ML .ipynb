{
 "cells": [
  {
   "cell_type": "markdown",
   "metadata": {
    "id": "N6sujYkV69b_"
   },
   "source": [
    "# **Epoch Session 1: Python for ML**\n",
    "## Content prepared by: Mohammed Abdul Rahman"
   ]
  },
  {
   "cell_type": "code",
   "execution_count": 1,
   "metadata": {
    "id": "2uaafcgaCA5H"
   },
   "outputs": [],
   "source": [
    "#Lets start by importing some libraries required for the session. \n",
    "\n",
    "import matplotlib.pyplot as plt\n",
    "import numpy as np\n",
    "import os\n",
    "import time\n",
    "import sys"
   ]
  },
  {
   "cell_type": "markdown",
   "metadata": {
    "id": "AwlqzFSPI1gy"
   },
   "source": [
    "# Variables and Data Types"
   ]
  },
  {
   "cell_type": "code",
   "execution_count": 2,
   "metadata": {
    "colab": {
     "base_uri": "https://localhost:8080/"
    },
    "id": "gJ9yfGiZI5-6",
    "outputId": "f4e6a6d1-5a40-491b-e56c-ed9a33d8fa80"
   },
   "outputs": [
    {
     "name": "stdout",
     "output_type": "stream",
     "text": [
      "Data type of x: <class 'int'>\n",
      "Data type of y: <class 'float'>\n",
      "Data type of z: <class 'str'>\n",
      "Data type of x: <class 'float'>\n"
     ]
    }
   ],
   "source": [
    "# Python automatically assigns the variables \n",
    "x = 2\n",
    "y = 3.14\n",
    "\n",
    "z = \"Machine Learning\"\n",
    "\n",
    "print(\"Data type of x: {}\".format(type(x)))\n",
    "print(\"Data type of y: {}\".format(type(y)))\n",
    "print(\"Data type of z: {}\".format(type(z)))\n",
    "\n",
    "# Type Casting\n",
    "x = float(x)\n",
    "print(\"Data type of x: {}\".format(type(x)))"
   ]
  },
  {
   "cell_type": "markdown",
   "metadata": {
    "id": "gpqMeSD2UOp1"
   },
   "source": [
    "# Strings \n",
    "- Slicing\n",
    "- Concatenation \n",
    "- formatted strings\n",
    "- split"
   ]
  },
  {
   "cell_type": "code",
   "execution_count": 3,
   "metadata": {
    "colab": {
     "base_uri": "https://localhost:8080/"
    },
    "id": "SbXu0uFqH8_b",
    "outputId": "c9266098-d98c-4e94-83d9-2689b8da8b6f"
   },
   "outputs": [
    {
     "name": "stdout",
     "output_type": "stream",
     "text": [
      "Welcome to the Epoch session\n"
     ]
    }
   ],
   "source": [
    "club1 = 'Epoch - The AI-ML Club'\n",
    "\n",
    "# string slicing and formatted strings \n",
    "print(f\"Welcome to the {club1[0:5]} session\")"
   ]
  },
  {
   "cell_type": "code",
   "execution_count": 4,
   "metadata": {
    "colab": {
     "base_uri": "https://localhost:8080/"
    },
    "id": "eECfRdLmD-G6",
    "outputId": "01e8ca71-56ac-4b94-d553-cd400436b80f"
   },
   "outputs": [
    {
     "name": "stdout",
     "output_type": "stream",
     "text": [
      "['k', 'h', 'a', 'i', 'r', 'i', 'y', 'a', 't', 'h', ' ', 'i', 's', 'm', 'a', 'i', 'l', ' ', 'b', 'h', 'a', 'i', '!']\n",
      "\n",
      "\n"
     ]
    },
    {
     "data": {
      "text/plain": [
       "['khairiyath', 'ismail', 'bhai!']"
      ]
     },
     "execution_count": 4,
     "metadata": {},
     "output_type": "execute_result"
    }
   ],
   "source": [
    "# SYNTAX : string.split(separator, maxsplit)\n",
    "\n",
    "s = \"khairiyath ismail bhai!\" \n",
    "print(list(s))          # converts the string into list of characters\n",
    "print(\"\\n\")\n",
    "s.split()                # Splits the String into lists over the whitepace (By default any whitespace is a separator)"
   ]
  },
  {
   "cell_type": "code",
   "execution_count": 5,
   "metadata": {
    "colab": {
     "base_uri": "https://localhost:8080/"
    },
    "id": "b1BuLOe3EowV",
    "outputId": "06bc8825-c0e1-43bc-97a9-0918837b8385"
   },
   "outputs": [
    {
     "name": "stdout",
     "output_type": "stream",
     "text": [
      "The diameter of 12742 is Earth kilometers.\n"
     ]
    }
   ],
   "source": [
    "planet = \"Earth\"\n",
    "diameter = 12742\n",
    "print(\"The diameter of {} is {} kilometers.\" .format(diameter,planet))\n",
    "\n",
    "# Any guesses ? "
   ]
  },
  {
   "cell_type": "markdown",
   "metadata": {
    "id": "CaNUDdI5SYpl"
   },
   "source": [
    "**Careful !** because order of parameter matters here ."
   ]
  },
  {
   "cell_type": "markdown",
   "metadata": {
    "id": "HYqpIOAAVPS6"
   },
   "source": [
    "# Lists\n",
    "- Indexing / Changing \n",
    "- Slicing"
   ]
  },
  {
   "cell_type": "code",
   "execution_count": 6,
   "metadata": {
    "colab": {
     "base_uri": "https://localhost:8080/"
    },
    "id": "c3zEyQ3IIjlO",
    "outputId": "1e8748cc-70a8-46fd-ae68-422c1f1ff841"
   },
   "outputs": [
    {
     "name": "stdout",
     "output_type": "stream",
     "text": [
      "['Instagram', 'Youtube']\n"
     ]
    }
   ],
   "source": [
    "# change list item values\n",
    "binge_study_list = ['Discrete Maths', 'Automata']\n",
    "binge_study_list[0] = 'Instagram'\n",
    "binge_study_list[1] = 'Youtube'\n",
    "print(binge_study_list)"
   ]
  },
  {
   "cell_type": "code",
   "execution_count": 7,
   "metadata": {
    "colab": {
     "base_uri": "https://localhost:8080/"
    },
    "id": "7F-KQrGJFLNv",
    "outputId": "67bc123c-b0cf-4ef1-a6ce-af32c38023be"
   },
   "outputs": [
    {
     "name": "stdout",
     "output_type": "stream",
     "text": [
      "abcbaburaod\n"
     ]
    }
   ],
   "source": [
    "lst = [1,2,[3,4],[5,[100,200,['abcbaburaod']],23,11],1,7]\n",
    "a = lst[3][1][2][0]\n",
    "print(a)"
   ]
  },
  {
   "cell_type": "code",
   "execution_count": 8,
   "metadata": {
    "colab": {
     "base_uri": "https://localhost:8080/"
    },
    "id": "QxO1v84TFfDc",
    "outputId": "00b51c28-e90c-4854-c8a4-492722e1d2bf"
   },
   "outputs": [
    {
     "name": "stdout",
     "output_type": "stream",
     "text": [
      "baburao\n"
     ]
    }
   ],
   "source": [
    "print(a[3:-1])  \n",
    "\n",
    "# Answer ?"
   ]
  },
  {
   "cell_type": "markdown",
   "metadata": {
    "id": "3hKxMptbVrOa"
   },
   "source": [
    "# Tuples\n",
    "- access items\n",
    "- tuple unpacking\n",
    "- immutability\n"
   ]
  },
  {
   "cell_type": "code",
   "execution_count": 9,
   "metadata": {
    "colab": {
     "base_uri": "https://localhost:8080/"
    },
    "id": "2yYwlwPdI30W",
    "outputId": "eb471caa-265f-44e3-f0f8-ad4a41767b7b"
   },
   "outputs": [
    {
     "name": "stdout",
     "output_type": "stream",
     "text": [
      "1\n"
     ]
    }
   ],
   "source": [
    "my_tup = (1, 'Hello', 0.2, [1, 2, 3])   # can include any datatype\n",
    "\n",
    "# access items\n",
    "my_int = my_tup[0]\n",
    "print(my_int)"
   ]
  },
  {
   "cell_type": "code",
   "execution_count": 10,
   "metadata": {
    "colab": {
     "base_uri": "https://localhost:8080/"
    },
    "id": "7K_BrdyNI64D",
    "outputId": "0b2f821d-528b-45a5-f0a1-5664ca4ab9c2"
   },
   "outputs": [
    {
     "name": "stdout",
     "output_type": "stream",
     "text": [
      "Hello\n",
      "[1, 2, 3]\n"
     ]
    }
   ],
   "source": [
    "# Tuple unpacking\n",
    "a, b, c, d = my_tup\n",
    "print(b)\n",
    "print(d)"
   ]
  },
  {
   "cell_type": "code",
   "execution_count": 11,
   "metadata": {
    "colab": {
     "base_uri": "https://localhost:8080/",
     "height": 182
    },
    "id": "caA6s1y6I_Pu",
    "outputId": "dc4e6d2c-4311-43fe-f2ff-510e460c821c"
   },
   "outputs": [
    {
     "ename": "TypeError",
     "evalue": "'tuple' object does not support item assignment",
     "output_type": "error",
     "traceback": [
      "\u001b[1;31m---------------------------------------------------------------------------\u001b[0m",
      "\u001b[1;31mTypeError\u001b[0m                                 Traceback (most recent call last)",
      "Cell \u001b[1;32mIn[11], line 2\u001b[0m\n\u001b[0;32m      1\u001b[0m \u001b[38;5;66;03m# tuples are immutable (i.e can't change tuple elements , can't add, can't remove)\u001b[39;00m\n\u001b[1;32m----> 2\u001b[0m \u001b[43mmy_tup\u001b[49m\u001b[43m[\u001b[49m\u001b[38;5;241;43m0\u001b[39;49m\u001b[43m]\u001b[49m \u001b[38;5;241m=\u001b[39m \u001b[38;5;124m'\u001b[39m\u001b[38;5;124ma\u001b[39m\u001b[38;5;124m'\u001b[39m\n\u001b[0;32m      4\u001b[0m \u001b[38;5;66;03m# this is an 'intended' error\u001b[39;00m\n",
      "\u001b[1;31mTypeError\u001b[0m: 'tuple' object does not support item assignment"
     ]
    }
   ],
   "source": [
    "# tuples are immutable (i.e can't change tuple elements , can't add, can't remove)\n",
    "my_tup[0] = 'a'\n",
    "\n",
    "# this is an 'intended' error"
   ]
  },
  {
   "cell_type": "markdown",
   "metadata": {
    "id": "5EzZvv4BV8dC"
   },
   "source": [
    "## Sets \n",
    "\n"
   ]
  },
  {
   "cell_type": "code",
   "execution_count": null,
   "metadata": {
    "colab": {
     "base_uri": "https://localhost:8080/"
    },
    "id": "yfQdvuVBJCg8",
    "outputId": "dcc6fb3d-e7f4-4939-e112-1e4f1e7fe8ea"
   },
   "outputs": [],
   "source": [
    "## Sets are defined by unique elements and are unordered\n",
    "# NOTE: Set items are unchangeable, but you can remove items and add new items.\n",
    "\n",
    "s = {3,2,3,1,2,1,2,3,3,2,2,1,1,2}\n",
    "s.add(-1)\n",
    "print(s)"
   ]
  },
  {
   "cell_type": "markdown",
   "metadata": {
    "id": "1YpGmjRtWBCB"
   },
   "source": [
    "# Functions "
   ]
  },
  {
   "cell_type": "code",
   "execution_count": null,
   "metadata": {
    "colab": {
     "base_uri": "https://localhost:8080/"
    },
    "id": "N3pTR78gFqVN",
    "outputId": "edfa9a57-3e89-45cc-cf62-affef203ccea"
   },
   "outputs": [],
   "source": [
    "# Functions: \n",
    "# Python documentation strings (or docstrings) provide a convenient way of associating documentation with Python modules, functions\n",
    "def findWife(str):\n",
    "    \" Function to find 'her' in a string. \"                   # docstrings describing what the function does (a good practice) \n",
    "    if 'her' in str:\n",
    "        return True\n",
    "\n",
    "if(findWife('Is she here in Computer Center')):\n",
    "  print(\"Found her!\")"
   ]
  },
  {
   "cell_type": "markdown",
   "metadata": {
    "id": "h5a3O27HgefH"
   },
   "source": [
    "\n",
    "\n",
    " # Lists Vs Numpy\n",
    "\n",
    "\n",
    "*   Initialization\n",
    "*   Indexing\n",
    "*   Slicing\n",
    "*   Memory\n",
    "*   Time Consumption\n",
    "*   Few direct operations numpy can handle\n",
    "\n",
    "\n"
   ]
  },
  {
   "cell_type": "markdown",
   "metadata": {
    "id": "pfYkf0AI3O-o"
   },
   "source": [
    "Initialization:\n",
    "We can initialize a numpy array using a list"
   ]
  },
  {
   "cell_type": "code",
   "execution_count": 12,
   "metadata": {
    "colab": {
     "base_uri": "https://localhost:8080/"
    },
    "id": "cmHKPPvthsZ-",
    "outputId": "30eb3192-dcd2-4a06-faf1-b58eee2bb0be"
   },
   "outputs": [
    {
     "name": "stdout",
     "output_type": "stream",
     "text": [
      "List: [1, 2, 3, 4, 5, 6, 7, 8]\n",
      "Numpy_array: [1 2 3 4 5 6 7 8]\n"
     ]
    }
   ],
   "source": [
    "# A Python list\n",
    "my_list = [1,2,3,4,5,6,7,8]\n",
    "# A numpy array that contains items of the same type\n",
    "my_numpy_array = np.array([1,2,3,4,5,6,7,8])\n",
    "\n",
    "#printing the list\n",
    "print(\"List:\",my_list)\n",
    "\n",
    "#printing the numpy array\n",
    "print(\"Numpy_array:\",my_numpy_array)"
   ]
  },
  {
   "cell_type": "code",
   "execution_count": 13,
   "metadata": {
    "colab": {
     "base_uri": "https://localhost:8080/"
    },
    "id": "dQNg418IfjIN",
    "outputId": "8efb9bf3-6d13-4ec6-abf9-aa6cc726a7a6"
   },
   "outputs": [
    {
     "name": "stdout",
     "output_type": "stream",
     "text": [
      "List: [1, 2, 3, 4, 5, 6, 7, 9]\n",
      "Numpy_array: [ 1  2  3  4  5  6  7 10]\n"
     ]
    }
   ],
   "source": [
    "# Both list and numpy are mutable\n",
    "my_list[7] = 9\n",
    "my_numpy_array[7]  = 10\n",
    "\n",
    "print(\"List:\",my_list)\n",
    "print(\"Numpy_array:\",my_numpy_array)\n"
   ]
  },
  {
   "cell_type": "code",
   "execution_count": 14,
   "metadata": {
    "colab": {
     "base_uri": "https://localhost:8080/"
    },
    "id": "wrpX5AirgHjO",
    "outputId": "d865de85-4297-497f-f845-883333ad2ccc"
   },
   "outputs": [
    {
     "name": "stdout",
     "output_type": "stream",
     "text": [
      "The fourth element(Numpy Array) 4\n",
      "The fifth element(Numpy Array) 5\n",
      "After the slicing operation(List): [1, 2, 3, 4]\n",
      "After the slicing operation(Numpy_array): [1 2 3 4]\n"
     ]
    }
   ],
   "source": [
    "#Both can be indexed and can be used for slicing operations\n",
    "# accessing an element in an array through their index\n",
    "\n",
    "l = my_list[3]\n",
    "print(\"The fourth element(Numpy Array)\",l)\n",
    "n = my_numpy_array[4]\n",
    "print(\"The fifth element(Numpy Array)\",n)\n",
    "\n",
    "#Slicing operations\n",
    "\n",
    "l_s = my_list[:4]\n",
    "print(\"After the slicing operation(List):\",l_s)\n",
    "n_s = my_numpy_array[:4]\n",
    "\n",
    "\n",
    "print(\"After the slicing operation(Numpy_array):\",n_s)\n"
   ]
  },
  {
   "cell_type": "code",
   "execution_count": 15,
   "metadata": {
    "colab": {
     "base_uri": "https://localhost:8080/"
    },
    "id": "LzKjFuFTgIma",
    "outputId": "0fe62309-5616-4deb-e1d2-c835cfa617ef"
   },
   "outputs": [
    {
     "name": "stdout",
     "output_type": "stream",
     "text": [
      "Memory(in bytes) list consumes: 120\n",
      "Memory(in bytes) NumPy array consumes: 4\n",
      "List consumes 30.0 times memory than a numpy array of same size\n"
     ]
    }
   ],
   "source": [
    "# Memory consumption o# Memory consumption of list and array\n",
    "list_memory = sys.getsizeof(my_list)\n",
    "print(\"Memory(in bytes) list consumes:\",list_memory )\n",
    "numpy_arr_memory = my_numpy_array.itemsize\n",
    "print(\"Memory(in bytes) NumPy array consumes:\",numpy_arr_memory )\n",
    "print(\"List consumes\", list_memory /numpy_arr_memory ,\"times memory than a numpy array of same size\")"
   ]
  },
  {
   "cell_type": "code",
   "execution_count": 16,
   "metadata": {
    "colab": {
     "base_uri": "https://localhost:8080/"
    },
    "id": "LX291fvagYA2",
    "outputId": "1aacb07b-36c7-43f7-97ba-e225b891ee90"
   },
   "outputs": [
    {
     "name": "stdout",
     "output_type": "stream",
     "text": [
      "List after adding 3: [3, 4, 5, 6, 7]\n",
      "Numpy after adding 3: [3 4 5 6 7]\n",
      "Comparing the time consumed by lits and numpy arrays for addition operation\n",
      "Lists: 0.0 Numpy_Array 0.0\n"
     ]
    },
    {
     "ename": "ZeroDivisionError",
     "evalue": "float division by zero",
     "output_type": "error",
     "traceback": [
      "\u001b[1;31m---------------------------------------------------------------------------\u001b[0m",
      "\u001b[1;31mZeroDivisionError\u001b[0m                         Traceback (most recent call last)",
      "Cell \u001b[1;32mIn[16], line 27\u001b[0m\n\u001b[0;32m     25\u001b[0m \u001b[38;5;28mprint\u001b[39m(\u001b[38;5;124m\"\u001b[39m\u001b[38;5;124mComparing the time consumed by lits and numpy arrays for addition operation\u001b[39m\u001b[38;5;124m\"\u001b[39m)\n\u001b[0;32m     26\u001b[0m \u001b[38;5;28mprint\u001b[39m(\u001b[38;5;124m\"\u001b[39m\u001b[38;5;124mLists:\u001b[39m\u001b[38;5;124m\"\u001b[39m,t_add_list ,\u001b[38;5;124m\"\u001b[39m\u001b[38;5;124mNumpy_Array\u001b[39m\u001b[38;5;124m\"\u001b[39m,t_add_np)\n\u001b[1;32m---> 27\u001b[0m \u001b[38;5;28mprint\u001b[39m(\u001b[38;5;124m\"\u001b[39m\u001b[38;5;124mNumpy arrays are\u001b[39m\u001b[38;5;124m\"\u001b[39m,\u001b[38;5;28mint\u001b[39m(\u001b[43mt_add_list\u001b[49m\u001b[38;5;241;43m/\u001b[39;49m\u001b[43mt_add_np\u001b[49m),\u001b[38;5;124m\"\u001b[39m\u001b[38;5;124mtimes faster\u001b[39m\u001b[38;5;124m\"\u001b[39m)\n",
      "\u001b[1;31mZeroDivisionError\u001b[0m: float division by zero"
     ]
    }
   ],
   "source": [
    "# Mathematical operations numpy can handle directly while lists cannot\n",
    "#List\n",
    "list_add = [i for i in range(10000)]\n",
    "\n",
    "start = time.time()\n",
    "list_add = [i+3 for i in list_add]\n",
    "end = time.time()\n",
    "\n",
    "t_add_list = end-start\n",
    "\n",
    "\n",
    "#Numpy_array\n",
    "my_numpy_add = np.array([i for i in range(10000)])\n",
    "\n",
    "start = time.time()\n",
    "my_numpy_add = my_numpy_add + 3\n",
    "end = time.time()\n",
    "\n",
    "t_add_np = end-start\n",
    "\n",
    "print(\"List after adding 3:\",list_add[:5])\n",
    "print(\"Numpy after adding 3:\",my_numpy_add[:5])\n",
    "\n",
    "#Time consumption\n",
    "print(\"Comparing the time consumed by lits and numpy arrays for addition operation\")\n",
    "print(\"Lists:\",t_add_list ,\"Numpy_Array\",t_add_np)\n",
    "print(\"Numpy arrays are\",int(t_add_list/t_add_np),\"times faster\")\n",
    "\n"
   ]
  },
  {
   "cell_type": "markdown",
   "metadata": {
    "id": "_wFX0y7Nkgyf"
   },
   "source": [
    "## Mathematical Functions in Numpy"
   ]
  },
  {
   "cell_type": "markdown",
   "metadata": {
    "id": "HApYEd4ttb1m"
   },
   "source": [
    " Trigonometric functions"
   ]
  },
  {
   "cell_type": "code",
   "execution_count": 17,
   "metadata": {
    "colab": {
     "base_uri": "https://localhost:8080/",
     "height": 265
    },
    "id": "ILtGYAKBkybk",
    "outputId": "9568db77-e74d-4fc0-ea4f-9a9d25b9247c"
   },
   "outputs": [
    {
     "data": {
      "image/png": "[encoded data removed]",
      "text/plain": [
       "<Figure size 640x480 with 1 Axes>"
      ]
     },
     "metadata": {},
     "output_type": "display_data"
    }
   ],
   "source": [
    "a=np.linspace(0,10)\n",
    "sin=np.sin(a)\n",
    "cos=np.cos(a)\n",
    "\n",
    "plt.plot(a,sin)\n",
    "plt.plot(a,cos)\n",
    "plt.show()"
   ]
  },
  {
   "cell_type": "code",
   "execution_count": 18,
   "metadata": {
    "colab": {
     "base_uri": "https://localhost:8080/",
     "height": 265
    },
    "id": "1VSP_YaoIESu",
    "outputId": "d4822148-afb6-4c90-e855-b99c813e5b15"
   },
   "outputs": [
    {
     "data": {
      "image/png": "[encoded data removed]",
      "text/plain": [
       "<Figure size 640x480 with 1 Axes>"
      ]
     },
     "metadata": {},
     "output_type": "display_data"
    }
   ],
   "source": [
    "a=np.linspace(-1,1)\n",
    "arcsin=np.arcsin(a)\n",
    "arccos=np.arccos(a)\n",
    "\n",
    "plt.plot(a,arcsin)\n",
    "plt.plot(a,arccos)\n",
    "plt.show()"
   ]
  },
  {
   "cell_type": "code",
   "execution_count": 19,
   "metadata": {
    "colab": {
     "base_uri": "https://localhost:8080/",
     "height": 265
    },
    "id": "G8CZ63SyJWUH",
    "outputId": "e58bc877-c02e-4a86-dbe3-b0bf510e6903"
   },
   "outputs": [
    {
     "data": {
      "image/png": "[encoded data removed]",
      "text/plain": [
       "<Figure size 640x480 with 1 Axes>"
      ]
     },
     "metadata": {},
     "output_type": "display_data"
    }
   ],
   "source": [
    "a=np.linspace(-3,3)\n",
    "sinh=np.sinh(a)\n",
    "cosh=np.cosh(a)\n",
    "\n",
    "plt.plot(a,sinh)\n",
    "plt.plot(a,cosh)\n",
    "plt.show()"
   ]
  },
  {
   "cell_type": "code",
   "execution_count": 20,
   "metadata": {
    "colab": {
     "base_uri": "https://localhost:8080/"
    },
    "id": "nkLeBxr8Kc8E",
    "outputId": "9bf7fcc8-e18b-4b03-914d-9364c8e85496"
   },
   "outputs": [
    {
     "name": "stdout",
     "output_type": "stream",
     "text": [
      "359.9999999988778\n",
      "6.283185307179586\n"
     ]
    }
   ],
   "source": [
    "pi=3.14159265358\n",
    "print(np.degrees(2*pi))\n",
    "print(np.radians(360))"
   ]
  },
  {
   "cell_type": "code",
   "execution_count": 21,
   "metadata": {
    "colab": {
     "base_uri": "https://localhost:8080/"
    },
    "id": "N1cB0TVWMj0Y",
    "outputId": "d0321fb6-45df-4f12-8eda-954afdfb1c0f"
   },
   "outputs": [
    {
     "name": "stdout",
     "output_type": "stream",
     "text": [
      "9.99999327347282\n",
      "12.0\n"
     ]
    }
   ],
   "source": [
    "e=2.71828\n",
    "print(np.log(e**10))\n",
    "print(np.log2(4096))"
   ]
  },
  {
   "cell_type": "code",
   "execution_count": 22,
   "metadata": {
    "colab": {
     "base_uri": "https://localhost:8080/"
    },
    "id": "dYZjI2JvM6Sx",
    "outputId": "671b56f4-fb4b-4270-b5a1-686f593f620a"
   },
   "outputs": [
    {
     "name": "stdout",
     "output_type": "stream",
     "text": [
      "20.085536923187668\n",
      "32.0\n"
     ]
    }
   ],
   "source": [
    "print(np.exp(3))\n",
    "print(np.exp2(5))"
   ]
  },
  {
   "cell_type": "code",
   "execution_count": 23,
   "metadata": {
    "colab": {
     "base_uri": "https://localhost:8080/"
    },
    "id": "UJF0T3TcNRL7",
    "outputId": "7a8147e9-827b-4125-ad27-7e86e2536344"
   },
   "outputs": [
    {
     "name": "stdout",
     "output_type": "stream",
     "text": [
      "1234.568\n",
      "1234.0\n",
      "1235.0\n"
     ]
    }
   ],
   "source": [
    "a=1234.56789\n",
    "print(np.around(a,3))\n",
    "print(np.floor(a))\n",
    "print(np.ceil(a))"
   ]
  },
  {
   "cell_type": "code",
   "execution_count": 24,
   "metadata": {
    "colab": {
     "base_uri": "https://localhost:8080/"
    },
    "id": "UhoMpoP3wVuf",
    "outputId": "b3b04ded-3a8c-4534-c438-113bbc9566ad"
   },
   "outputs": [
    {
     "name": "stdout",
     "output_type": "stream",
     "text": [
      "3\n",
      "1\n"
     ]
    }
   ],
   "source": [
    "print(np.mod(25,11))\n",
    "print(np.mod(45,4))"
   ]
  },
  {
   "cell_type": "code",
   "execution_count": 25,
   "metadata": {
    "colab": {
     "base_uri": "https://localhost:8080/"
    },
    "id": "Nf0yqrQFvZpr",
    "outputId": "fb2bd50c-0776-449d-ea65-facd571268f0"
   },
   "outputs": [
    {
     "name": "stdout",
     "output_type": "stream",
     "text": [
      "[ 2  4  6  8 10]\n",
      "[0 0 0 0 0]\n",
      "[ 1  4  9 16 25]\n",
      "[1. 1. 1. 1. 1.]\n"
     ]
    }
   ],
   "source": [
    "a=[1,2,3,4,5]\n",
    "b=[1,2,3,4,5]\n",
    "\n",
    "print(np.add(a,b))\n",
    "print(np.subtract(a,b))\n",
    "print(np.multiply(a,b))\n",
    "print(np.divide(a,b))"
   ]
  },
  {
   "cell_type": "code",
   "execution_count": 26,
   "metadata": {
    "colab": {
     "base_uri": "https://localhost:8080/"
    },
    "id": "efH1OD1WtR7F",
    "outputId": "d4d094af-2757-410b-9171-2a109df4f0d6"
   },
   "outputs": [
    {
     "name": "stdout",
     "output_type": "stream",
     "text": [
      "(1234-56789j)\n",
      "False\n"
     ]
    }
   ],
   "source": [
    "a=1234 + 56789j\n",
    "print(np.conj(a))\n",
    "print(np.isreal(a))\n"
   ]
  },
  {
   "cell_type": "code",
   "execution_count": 27,
   "metadata": {
    "colab": {
     "base_uri": "https://localhost:8080/"
    },
    "id": "9lDJA3ZhOdNW",
    "outputId": "acdc617f-acab-4220-df35-8a1fa2ed82b2"
   },
   "outputs": [
    {
     "name": "stdout",
     "output_type": "stream",
     "text": [
      "[1 3 2 4 2 1]\n",
      "[6 5 3 4 6 5]\n"
     ]
    }
   ],
   "source": [
    "a=np.array([1,3,2,4,6,5])\n",
    "b=np.array([6,5,3,4,2,1])\n",
    "print(np.minimum(a,b))\n",
    "print(np.maximum(a,b))"
   ]
  },
  {
   "cell_type": "code",
   "execution_count": 28,
   "metadata": {
    "colab": {
     "base_uri": "https://localhost:8080/"
    },
    "id": "ruC_456-Sqq-",
    "outputId": "72941d20-1a5e-4594-df45-a694e879cd6b"
   },
   "outputs": [
    {
     "name": "stdout",
     "output_type": "stream",
     "text": [
      "-1.0\n"
     ]
    }
   ],
   "source": [
    "a= -1\n",
    "print(np.cbrt(a))"
   ]
  },
  {
   "cell_type": "code",
   "execution_count": 29,
   "metadata": {
    "colab": {
     "base_uri": "https://localhost:8080/"
    },
    "id": "fH_qq1x4TCzO",
    "outputId": "321013d6-0767-443b-a03b-95ef9b8b43c3"
   },
   "outputs": [
    {
     "name": "stdout",
     "output_type": "stream",
     "text": [
      "(0.5000000000000001+0.8660254037844386j)\n"
     ]
    }
   ],
   "source": [
    "a= -1\n",
    "print(a**(1/3))"
   ]
  },
  {
   "cell_type": "code",
   "execution_count": 30,
   "metadata": {
    "colab": {
     "base_uri": "https://localhost:8080/",
     "height": 265
    },
    "id": "nmWIWA_ClzKC",
    "outputId": "dad6d7c6-36f2-48b7-9bfd-992e64fb81b7"
   },
   "outputs": [
    {
     "data": {
      "image/png": "[encoded data removed]",
      "text/plain": [
       "<Figure size 640x480 with 1 Axes>"
      ]
     },
     "metadata": {},
     "output_type": "display_data"
    }
   ],
   "source": [
    "x=np.linspace(1,10)\n",
    "\n",
    "y=np.log2(x)\n",
    "\n",
    "plt.plot(x,y)\n",
    "plt.show()"
   ]
  },
  {
   "cell_type": "code",
   "execution_count": 31,
   "metadata": {
    "colab": {
     "base_uri": "https://localhost:8080/"
    },
    "id": "QA4qNuraQ7KJ",
    "outputId": "c328a73b-f0cb-4168-ffd4-e3bd54c3f8de"
   },
   "outputs": [
    {
     "name": "stdout",
     "output_type": "stream",
     "text": [
      "[6 5 3 4 6 5 6 7 8 6 9 1]\n",
      "[1 3 2 4 2 1 3 7 3 2 4 0]\n",
      "[6 5 3 4 6 5 6 7 8 6 9 1]\n"
     ]
    }
   ],
   "source": [
    "a=np.array([1,3,2,4,6,5,3,7,8,6,9,0])\n",
    "b=np.array([6,5,3,4,2,1,6,7,3,2,4,1])\n",
    "print(np.where(a>2*b,a,b))\n",
    "print(np.where(a>2*b,b,a))\n",
    "print(np.where(a+1>b,a,b))"
   ]
  },
  {
   "cell_type": "code",
   "execution_count": 32,
   "metadata": {
    "colab": {
     "base_uri": "https://localhost:8080/",
     "height": 265
    },
    "id": "hc6_NW8elGEP",
    "outputId": "280379c0-a193-4925-c86b-1eb667f05b26"
   },
   "outputs": [
    {
     "data": {
      "image/png": "[encoded data removed]",
      "text/plain": [
       "<Figure size 640x480 with 1 Axes>"
      ]
     },
     "metadata": {},
     "output_type": "display_data"
    }
   ],
   "source": [
    "a=np.linspace(0,10,20)\n",
    "grad=np.gradient(np.sin(a),a)\n",
    "\n",
    "real=np.cos(a)\n",
    "\n",
    "diff=np.absolute(grad-real)\n",
    "\n",
    "plt.plot(a,grad,\"blue\")\n",
    "plt.plot(a,real,\"red\")\n",
    "plt.show()"
   ]
  },
  {
   "cell_type": "markdown",
   "metadata": {
    "id": "NyPhKvjzpkGZ"
   },
   "source": [
    "\n",
    "\n",
    "## Random Numbers\n",
    "\n",
    "\n",
    "*   np.random.rand() : Generates random values in a given shape from a uniform distribution\n",
    "*   np.random.randn() : Generates random numbers sample from a “standard normal” distribution.\n",
    "\n",
    "*   np.random.randint() : Generates random integer values\n",
    "*   np.random.choice() : Make random choices from a list/array\n",
    "*   np.arange() : Allows you to define the step size and infers the number of steps\n",
    "* np.linspace() : It allows you to define how many values you get including the specified min and max value\n",
    "*   np.shuffle() : Modify a sequence in-place by shuffling its contents.\n",
    "* np.random.normal() : Generates random numbers sample from a \"normal\" distribution.\n",
    "\n",
    "\n",
    "\n",
    "\n"
   ]
  },
  {
   "cell_type": "markdown",
   "metadata": {
    "id": "y0RIFR6qcTu3"
   },
   "source": [
    "## np.random.rand(shape)"
   ]
  },
  {
   "cell_type": "code",
   "execution_count": 33,
   "metadata": {
    "colab": {
     "base_uri": "https://localhost:8080/"
    },
    "id": "X68emi1Bph4Y",
    "outputId": "549b11bb-2cc2-4edd-9cdb-bfed0141cbe2"
   },
   "outputs": [
    {
     "name": "stdout",
     "output_type": "stream",
     "text": [
      "The random number generated is:  0.16404727897507043\n"
     ]
    }
   ],
   "source": [
    "# Lets initiate some randomness\n",
    "# np.random.rand() generates a random number between 0 and 1\n",
    "a=np.random.rand()  \n",
    "print(\"The random number generated is: \",a)"
   ]
  },
  {
   "cell_type": "code",
   "execution_count": 34,
   "metadata": {
    "colab": {
     "base_uri": "https://localhost:8080/"
    },
    "id": "E0-MXaEEdlp8",
    "outputId": "30790419-2161-4dd4-9648-414d61319384"
   },
   "outputs": [
    {
     "name": "stdout",
     "output_type": "stream",
     "text": [
      "The random numbers generated are: \n",
      "[0.15915298 0.6966075  0.18071852 0.70188699 0.11699844]\n",
      "The random array generated is: \n",
      "[[0.76379769 0.70655968]\n",
      " [0.62306924 0.46582816]\n",
      " [0.81742756 0.26386682]\n",
      " [0.78351921 0.79250722]\n",
      " [0.20391097 0.54141014]]\n"
     ]
    }
   ],
   "source": [
    "# Lets initiate more randomness\n",
    "\n",
    "a = np.random.rand(5)  # Generates an array of 5 elements with random numbers between 0 and 1\n",
    "print(\"The random numbers generated are: \")\n",
    "print(a)\n",
    "a = np.random.rand(5,2)  # # Generates an array of size 5x2 with random numbers between 0 and 1\n",
    "print(\"The random array generated is: \")\n",
    "print(a)"
   ]
  },
  {
   "cell_type": "markdown",
   "metadata": {
    "id": "LI_Bw3HtsvMQ"
   },
   "source": [
    "## np.random.randn(shape)"
   ]
  },
  {
   "cell_type": "code",
   "execution_count": 35,
   "metadata": {
    "colab": {
     "base_uri": "https://localhost:8080/"
    },
    "id": "zdspbOW0eSBj",
    "outputId": "2115691c-af1d-454d-b26d-9773e370f125"
   },
   "outputs": [
    {
     "name": "stdout",
     "output_type": "stream",
     "text": [
      "The random array generated is: \n",
      "[[0.31995188 0.71398842]\n",
      " [0.10666223 0.04361385]]\n"
     ]
    }
   ],
   "source": [
    "# What is missing??\n",
    "# - No negative numbers !!\n",
    "# Yes, but numpy even got that sorted for you XDXDXD !!\n",
    "\n",
    "a=np.random.randn(2,2)  # It Generated random numbers between -1 and 1\n",
    "print(\"The random array generated is: \")\n",
    "print(a)"
   ]
  },
  {
   "cell_type": "markdown",
   "metadata": {
    "id": "zRsnxIRbsy9D"
   },
   "source": [
    "## np.random.randint(start=0, end, num)"
   ]
  },
  {
   "cell_type": "code",
   "execution_count": 36,
   "metadata": {
    "colab": {
     "base_uri": "https://localhost:8080/"
    },
    "id": "InabvllQehSZ",
    "outputId": "4d297637-9a15-4b6f-8b1e-9213eda4d6af"
   },
   "outputs": [
    {
     "name": "stdout",
     "output_type": "stream",
     "text": [
      "[4 2 2 0 1 0 0 2 2 1]\n"
     ]
    }
   ],
   "source": [
    "# But, what if you only want integer numbers\n",
    "# Numpy - Hold my beer !\n",
    "\n",
    "a=np.random.randint(5, size=10)  # It generates random integer from [0,5), and size defines the number of\n",
    "                                 # random numbers you wanted to generate\n",
    "print(a)"
   ]
  },
  {
   "cell_type": "markdown",
   "metadata": {
    "id": "bUmDO6gYs2Bq"
   },
   "source": [
    "## np.random.choice(x, size = None, replace = True, p = None)"
   ]
  },
  {
   "cell_type": "code",
   "execution_count": 37,
   "metadata": {
    "colab": {
     "base_uri": "https://localhost:8080/"
    },
    "id": "sb6f1577fJg8",
    "outputId": "c52e8e01-fddc-4831-f0c3-8cb4a7ebeac9"
   },
   "outputs": [
    {
     "name": "stdout",
     "output_type": "stream",
     "text": [
      "Messi\n"
     ]
    }
   ],
   "source": [
    "# Aj ho jaye faisla\n",
    "# Who is the real GOAT -> Messi or Ronaldo\n",
    "# Lets put an end to this debate\n",
    "\n",
    "the_real_GOAT = [\"Messi\",\"Ronaldo\"]\n",
    "a=np.random.choice(the_real_GOAT)  # Randomly choose one element from the list provided\n",
    "print(a)"
   ]
  },
  {
   "cell_type": "code",
   "execution_count": 38,
   "metadata": {
    "colab": {
     "base_uri": "https://localhost:8080/"
    },
    "id": "VLm2yE6afqN2",
    "outputId": "f68cf662-0a33-475f-80bb-c0e53ee4bbfc"
   },
   "outputs": [
    {
     "name": "stdout",
     "output_type": "stream",
     "text": [
      "Dhoni\n"
     ]
    }
   ],
   "source": [
    "# Time for the cricket fans :D\n",
    "\n",
    "the_real_GOAT2 = [\"Sachin\", \"Virat\", \"Dhoni\"]\n",
    "a=np.random.choice(the_real_GOAT2)  \n",
    "print(a)"
   ]
  },
  {
   "cell_type": "code",
   "execution_count": 39,
   "metadata": {
    "colab": {
     "base_uri": "https://localhost:8080/"
    },
    "id": "GqL5F-nXf1jf",
    "outputId": "cc051c59-9291-4286-be0f-4544e4abd34e"
   },
   "outputs": [
    {
     "name": "stdout",
     "output_type": "stream",
     "text": [
      "Messi\n"
     ]
    }
   ],
   "source": [
    "# What if you know Messi is the best??\n",
    "\n",
    "a=np.random.choice(the_real_GOAT, p = [1,0])  # Here, p defines the probabilty of picking the corresponding element in the list\n",
    "print(a)"
   ]
  },
  {
   "cell_type": "code",
   "execution_count": 40,
   "metadata": {
    "id": "VW3crDph2r4P"
   },
   "outputs": [
    {
     "ename": "ValueError",
     "evalue": "'a' and 'p' must have same size",
     "output_type": "error",
     "traceback": [
      "\u001b[1;31m---------------------------------------------------------------------------\u001b[0m",
      "\u001b[1;31mValueError\u001b[0m                                Traceback (most recent call last)",
      "Cell \u001b[1;32mIn[40], line 2\u001b[0m\n\u001b[0;32m      1\u001b[0m \u001b[38;5;66;03m# Fun exercise -> make your favourite cricketer the real GOAT with 100% probability\u001b[39;00m\n\u001b[1;32m----> 2\u001b[0m a  \u001b[38;5;241m=\u001b[39m \u001b[43mnp\u001b[49m\u001b[38;5;241;43m.\u001b[39;49m\u001b[43mrandom\u001b[49m\u001b[38;5;241;43m.\u001b[39;49m\u001b[43mchoice\u001b[49m\u001b[43m(\u001b[49m\u001b[43mthe_real_GOAT\u001b[49m\u001b[43m,\u001b[49m\u001b[43m \u001b[49m\u001b[43mp\u001b[49m\u001b[43m \u001b[49m\u001b[38;5;241;43m=\u001b[39;49m\u001b[43m \u001b[49m\u001b[43m[\u001b[49m\u001b[43m]\u001b[49m\u001b[43m)\u001b[49m \u001b[38;5;66;03m# Fill the probability list\u001b[39;00m\n\u001b[0;32m      3\u001b[0m \u001b[38;5;28mprint\u001b[39m(a)\n",
      "File \u001b[1;32mmtrand.pyx:932\u001b[0m, in \u001b[0;36mnumpy.random.mtrand.RandomState.choice\u001b[1;34m()\u001b[0m\n",
      "\u001b[1;31mValueError\u001b[0m: 'a' and 'p' must have same size"
     ]
    }
   ],
   "source": [
    "# Fun exercise -> make your favourite cricketer the real GOAT with 100% probability\n",
    "a  = np.random.choice(the_real_GOAT, p = []) # Fill the probability list\n",
    "print(a)"
   ]
  },
  {
   "cell_type": "markdown",
   "metadata": {
    "id": "L14G78BRs7WK"
   },
   "source": [
    "## np.arange(start=0, end, step)"
   ]
  },
  {
   "cell_type": "code",
   "execution_count": 41,
   "metadata": {
    "colab": {
     "base_uri": "https://localhost:8080/"
    },
    "id": "YtPwc_PdgI5w",
    "outputId": "540e447b-032c-46ad-cb78-fb97bd0af1d1"
   },
   "outputs": [
    {
     "name": "stdout",
     "output_type": "stream",
     "text": [
      "[ 0  1  2  3  4  5  6  7  8  9 10 11]\n"
     ]
    }
   ],
   "source": [
    "# Return evenly spaced values within a given interval\n",
    "a=np.arange(12)  \n",
    "print(a)"
   ]
  },
  {
   "cell_type": "markdown",
   "metadata": {
    "id": "pkk6Xnivs-Mh"
   },
   "source": [
    "## np.linspace(start, end, num)"
   ]
  },
  {
   "cell_type": "code",
   "execution_count": 42,
   "metadata": {
    "colab": {
     "base_uri": "https://localhost:8080/"
    },
    "id": "-2_xlBrRjamc",
    "outputId": "37fc1aae-c67e-4f34-b1a3-ecc7b7c2a592"
   },
   "outputs": [
    {
     "name": "stdout",
     "output_type": "stream",
     "text": [
      "[ 1.  2.  3.  4.  5.  6.  7.  8.  9. 10.]\n"
     ]
    }
   ],
   "source": [
    "# 10 linearly spaced numbers\n",
    "x = np.linspace(1,10,10)\n",
    "print(x)"
   ]
  },
  {
   "cell_type": "markdown",
   "metadata": {
    "id": "gngI3t2EtAo1"
   },
   "source": [
    "## np.random.shuffle(x)"
   ]
  },
  {
   "cell_type": "code",
   "execution_count": 43,
   "metadata": {
    "colab": {
     "base_uri": "https://localhost:8080/"
    },
    "id": "_2gEmV4wgMEF",
    "outputId": "2c4cde1b-0151-486e-cff3-d1ebf407a669"
   },
   "outputs": [
    {
     "name": "stdout",
     "output_type": "stream",
     "text": [
      "[ 2  1 10  6  4  0  8  3 11  7  9  5]\n"
     ]
    }
   ],
   "source": [
    "# Shuffle the given array for you\n",
    "np.random.shuffle(a)  \n",
    "print(a)"
   ]
  },
  {
   "cell_type": "markdown",
   "metadata": {
    "id": "bdorg8TFuv9X"
   },
   "source": [
    "## np.random.normal(loc = 0.0, scale = 1.0, size = None)"
   ]
  },
  {
   "cell_type": "code",
   "execution_count": 44,
   "metadata": {
    "colab": {
     "base_uri": "https://localhost:8080/"
    },
    "id": "NAogcFcPhB1m",
    "outputId": "e23d9b06-4939-4733-943b-0d610e4c689c"
   },
   "outputs": [
    {
     "name": "stdout",
     "output_type": "stream",
     "text": [
      "The random number generated using normal distribution is :  0.047126743336358724\n"
     ]
    }
   ],
   "source": [
    "# Randomly generate a number from a normal distribution\n",
    "a = np.random.normal(0,0.2) # Here mu = 0 and variance = 0.2\n",
    "print(\"The random number generated using normal distribution is : \", a)"
   ]
  },
  {
   "cell_type": "markdown",
   "metadata": {
    "id": "lfKFa6yxr-I0"
   },
   "source": [
    "## Plotting\n",
    "\n",
    "*   plt.hist() -> Used for plotting histogram\n",
    "*   plt.bar() -> Used for plotting bar plot\n",
    "*   plt.plot() -> Used for plotting line plot\n",
    "*   plt.scatter() -> Used for plotting scatter plot\n",
    "\n"
   ]
  },
  {
   "cell_type": "markdown",
   "metadata": {
    "id": "KYPgyUCH6N33"
   },
   "source": [
    "## plt.hist(x, bins, density)"
   ]
  },
  {
   "cell_type": "code",
   "execution_count": 45,
   "metadata": {
    "colab": {
     "base_uri": "https://localhost:8080/",
     "height": 265
    },
    "id": "6_piFLDJgyZq",
    "outputId": "f44a5195-6043-49b7-dbbb-cd2c1a9ae478"
   },
   "outputs": [
    {
     "data": {
      "image/png": "[encoded data removed]",
      "text/plain": [
       "<Figure size 640x480 with 1 Axes>"
      ]
     },
     "metadata": {},
     "output_type": "display_data"
    }
   ],
   "source": [
    "mu, sigma = 0, 0.2 # mean and standard deviation  \n",
    "s1 = np.random.normal(mu, sigma, 10000)  # Generating 10000 datapoints  \n",
    "count, bins, _ = plt.hist(s1, 100, density=True) # Plotting the histogram of the distribution with 100 bins\n",
    "plt.plot(bins, 1/(sigma * np.sqrt(2 * np.pi)) *np.exp( - (bins - mu)**2 / (2 * sigma**2) ), linewidth=2, color='r')  \n",
    "plt.show()  "
   ]
  },
  {
   "cell_type": "markdown",
   "metadata": {
    "id": "op1I4tEo5GwX"
   },
   "source": [
    "## plt.bar(x, height, width=0.8, align='center')\n"
   ]
  },
  {
   "cell_type": "code",
   "execution_count": 46,
   "metadata": {
    "colab": {
     "base_uri": "https://localhost:8080/",
     "height": 295
    },
    "id": "k0H-dlwn4Dfn",
    "outputId": "b1d48391-2d73-4a59-9e38-4c9566fcdd7b"
   },
   "outputs": [
    {
     "data": {
      "image/png": "[encoded data removed]",
      "text/plain": [
       "<Figure size 640x480 with 1 Axes>"
      ]
     },
     "metadata": {},
     "output_type": "display_data"
    }
   ],
   "source": [
    "# Generating the f(x) -> Scores of Virat Kholi in last 6 ODIs\n",
    "Virat_score = [113, 4, 166, 8, 11, 36]\n",
    "# Generating the x-axis points using linspace\n",
    "x = np.linspace(1,6,6)\n",
    "# Plotting the bar graph\n",
    "plt.bar(x, Virat_score)\n",
    "\n",
    "# Refining the graph\n",
    "plt.title(\"Virat scores\")  # Give a title to the graph\n",
    "plt.xlabel(\"ODI innings\") # Give a label to the x axis\n",
    "plt.ylabel(\"Score\") # Give a label to the y axis\n",
    "plt.show() # Command to show the plot"
   ]
  },
  {
   "cell_type": "markdown",
   "metadata": {
    "id": "uKgp07Ch_cLy"
   },
   "source": [
    "## Plt.plot(x, y, color, marker, linestyle, linewidth, label)"
   ]
  },
  {
   "cell_type": "code",
   "execution_count": 47,
   "metadata": {
    "colab": {
     "base_uri": "https://localhost:8080/",
     "height": 295
    },
    "id": "EzVDT5wf6yZ9",
    "outputId": "d04be60b-1d22-4856-ed75-35b7b2111c5b"
   },
   "outputs": [
    {
     "data": {
      "image/png": "[encoded data removed]",
      "text/plain": [
       "<Figure size 640x480 with 1 Axes>"
      ]
     },
     "metadata": {},
     "output_type": "display_data"
    }
   ],
   "source": [
    "# Line plot function\n",
    "plt.plot(x, Virat_score)\n",
    "\n",
    "# Refining the graph\n",
    "plt.title(\"Virat scores\")\n",
    "plt.xlabel(\"ODI innings\")\n",
    "plt.ylabel(\"Score\")\n",
    "plt.grid() # Show gridlines\n",
    "plt.show()"
   ]
  },
  {
   "cell_type": "markdown",
   "metadata": {
    "id": "29RNuM-HAET8"
   },
   "source": [
    "## Mutiple plots in a single figure"
   ]
  },
  {
   "cell_type": "code",
   "execution_count": 48,
   "metadata": {
    "colab": {
     "base_uri": "https://localhost:8080/",
     "height": 295
    },
    "id": "w3juMr6O7C6q",
    "outputId": "4ae71c39-8d9d-4224-a584-570cc8a2da4a"
   },
   "outputs": [
    {
     "data": {
      "image/png": "[encoded data removed]",
      "text/plain": [
       "<Figure size 640x480 with 1 Axes>"
      ]
     },
     "metadata": {},
     "output_type": "display_data"
    }
   ],
   "source": [
    "# f(x) -> Scores of Shubham Gill in last 6 ODIs\n",
    "Gill_score = [70, 21, 116, 208, 40, 112]\n",
    "\n",
    "# Line plot for Virat's score\n",
    "plt.plot(x, Virat_score, color = \"blue\", marker = \"o\", linestyle = \"-\", label = \"Virat\")\n",
    "# Line plot for Gill's score\n",
    "plt.plot(x,Gill_score, color = \"red\", marker = \"x\", linestyle = \"--\", label = \"Gill\")\n",
    "\n",
    "# Refining the graph\n",
    "plt.title(\"Virat vs Gill scores\")\n",
    "plt.xlabel(\"ODI innings\")\n",
    "plt.ylabel(\"Score\")\n",
    "plt.legend()  # Plot the legend box\n",
    "plt.grid()\n",
    "plt.show()"
   ]
  },
  {
   "cell_type": "markdown",
   "metadata": {
    "id": "MuGXkQpsALXJ"
   },
   "source": [
    "## Fun Exercise"
   ]
  },
  {
   "cell_type": "code",
   "execution_count": 49,
   "metadata": {
    "id": "DSGFQh8C24jT"
   },
   "outputs": [
    {
     "ename": "NameError",
     "evalue": "name '______' is not defined",
     "output_type": "error",
     "traceback": [
      "\u001b[1;31m---------------------------------------------------------------------------\u001b[0m",
      "\u001b[1;31mNameError\u001b[0m                                 Traceback (most recent call last)",
      "Cell \u001b[1;32mIn[49], line 3\u001b[0m\n\u001b[0;32m      1\u001b[0m \u001b[38;5;66;03m# Plot the bar graph of Gill score\u001b[39;00m\n\u001b[0;32m      2\u001b[0m \u001b[38;5;66;03m# Fill in the blank\u001b[39;00m\n\u001b[1;32m----> 3\u001b[0m plt\u001b[38;5;241m.\u001b[39mbar(x, \u001b[43m______\u001b[49m)\n\u001b[0;32m      5\u001b[0m \u001b[38;5;66;03m# Refining the graph\u001b[39;00m\n\u001b[0;32m      6\u001b[0m plt\u001b[38;5;241m.\u001b[39mtitle(\u001b[38;5;124m\"\u001b[39m\u001b[38;5;124mGill scores\u001b[39m\u001b[38;5;124m\"\u001b[39m)\n",
      "\u001b[1;31mNameError\u001b[0m: name '______' is not defined"
     ]
    }
   ],
   "source": [
    "# Plot the bar graph of Gill score\n",
    "# Fill in the blank\n",
    "plt.bar(x, ______)\n",
    "\n",
    "# Refining the graph\n",
    "plt.title(\"Gill scores\")\n",
    "plt.xlabel(\"ODI innings\")\n",
    "plt.ylabel(\"Score\")\n",
    "plt.show()"
   ]
  },
  {
   "cell_type": "markdown",
   "metadata": {
    "id": "L4r0eboZAWvi"
   },
   "source": [
    "## plt.scatter(x,y, marker, color)"
   ]
  },
  {
   "cell_type": "code",
   "execution_count": 50,
   "metadata": {
    "colab": {
     "base_uri": "https://localhost:8080/",
     "height": 265
    },
    "id": "6mnf2RhP9GQj",
    "outputId": "9909f44e-d328-4aa4-b7b3-dbd8baa6ae66"
   },
   "outputs": [
    {
     "data": {
      "image/png": "[encoded data removed]",
      "text/plain": [
       "<Figure size 640x480 with 1 Axes>"
      ]
     },
     "metadata": {},
     "output_type": "display_data"
    }
   ],
   "source": [
    "# Initialize (x,y) with random numbers\n",
    "x_coord = np.random.rand(100)\n",
    "y_coord = np.random.rand(100)\n",
    "\n",
    "# Initialize (x1,y1) with random numbers\n",
    "x1_coord = np.random.rand(100)\n",
    "y1_coord = np.random.rand(100)\n",
    "\n",
    "# Plotting the scatter plot\n",
    "plt.scatter(x_coord, y_coord, marker = \"*\", color = \"green\")\n",
    "plt.scatter(x1_coord, y1_coord, marker = \"x\", color = \"red\")\n",
    "plt.show()"
   ]
  },
  {
   "cell_type": "markdown",
   "metadata": {
    "id": "xznJZrqUQ_nv"
   },
   "source": [
    "#Matrices"
   ]
  },
  {
   "cell_type": "markdown",
   "metadata": {
    "id": "Nw4B2C0YIPue"
   },
   "source": [
    "###Let's cover some basic functions to create numpy matrices\n",
    "\n",
    "1. Ones, Zeros,and Identity.\n",
    "\n",
    "2. We will introduce some functions that tell you the shape and number of dimensions of the matrix and reshape it according to your choice. "
   ]
  },
  {
   "cell_type": "code",
   "execution_count": 51,
   "metadata": {
    "colab": {
     "base_uri": "https://localhost:8080/"
    },
    "id": "P7X5NsNONx9v",
    "outputId": "700a3c3b-2aef-491d-8804-d373e28ce0a2"
   },
   "outputs": [
    {
     "name": "stdout",
     "output_type": "stream",
     "text": [
      "The 2D Numpy Array is\n",
      " [[1 2]\n",
      " [3 4]]\n",
      "The 3D Numpy Array is\n",
      " [[[1 2]\n",
      "  [3 4]]\n",
      "\n",
      " [[5 6]\n",
      "  [7 8]]]\n"
     ]
    }
   ],
   "source": [
    "# Creating Numpy Matrices From List\n",
    "\n",
    "# 2D List to np array\n",
    "a = np.array([[1,2],[3,4]])\n",
    "print(\"The 2D Numpy Array is\\n\",a)\n",
    "\n",
    "# 3D List to np array\n",
    "b = np.array([[[1,2],[3,4]],[[5,6],[7,8]]])\n",
    "print(\"The 3D Numpy Array is\\n\",b)"
   ]
  },
  {
   "cell_type": "code",
   "execution_count": 52,
   "metadata": {
    "colab": {
     "base_uri": "https://localhost:8080/"
    },
    "id": "1tFYKhvRuCcR",
    "outputId": "f4fadeaa-d26c-4e52-cace-eb5efe9c2dd8"
   },
   "outputs": [
    {
     "name": "stdout",
     "output_type": "stream",
     "text": [
      "[[1. 0. 0.]\n",
      " [0. 1. 0.]\n",
      " [0. 0. 1.]]\n"
     ]
    }
   ],
   "source": [
    "I = np.identity(3) #creates an identity matrix of given size\n",
    "print(I)"
   ]
  },
  {
   "cell_type": "code",
   "execution_count": 53,
   "metadata": {
    "colab": {
     "base_uri": "https://localhost:8080/"
    },
    "id": "BshPFkIozNo7",
    "outputId": "35258851-2bdb-4810-c214-c349ca3d7951"
   },
   "outputs": [
    {
     "name": "stdout",
     "output_type": "stream",
     "text": [
      "Z is a matrix of zeros of given size\n",
      "\n",
      "[[0. 0. 0.]\n",
      " [0. 0. 0.]]\n",
      "O is a matrix of ones of given size\n",
      "[[1. 1. 1.]\n",
      " [1. 1. 1.]]\n",
      "I is an identity matrix of given size\n",
      "[[1. 0. 0.]\n",
      " [0. 1. 0.]\n",
      " [0. 0. 1.]]\n",
      "The z matrix after reshaping looks like this\n",
      " [[0.]\n",
      " [0.]\n",
      " [0.]\n",
      " [0.]\n",
      " [0.]\n",
      " [0.]]\n",
      "(6, 1)\n"
     ]
    }
   ],
   "source": [
    "#Transformations 1\n",
    "\n",
    "z = np.zeros((2,3)) #used to create an array of zeros with given shape\n",
    "print(\"Z is a matrix of zeros of given size\\n\")\n",
    "print(z)\n",
    "\n",
    "O = np.ones((2,3)) #used to create an array of ones with given shape\n",
    "print(\"O is a matrix of ones of given size\")\n",
    "print(O)\n",
    "\n",
    "I = np.identity(3) #creates an identity matrix of given size\n",
    "print(\"I is an identity matrix of given size\")\n",
    "print(I)\n",
    "\n",
    "\n",
    "z = z.reshape((6,1))\n",
    "print(\"The z matrix after reshaping looks like this\\n\",z)\n",
    "print(z.shape)"
   ]
  },
  {
   "cell_type": "code",
   "execution_count": 54,
   "metadata": {
    "colab": {
     "base_uri": "https://localhost:8080/"
    },
    "id": "Hgg2AqAxzEK5",
    "outputId": "730b2644-7fc9-4eb1-a4ec-b2e1bb3eb9a3"
   },
   "outputs": [
    {
     "name": "stdout",
     "output_type": "stream",
     "text": [
      "The np array arr is\n",
      " [[1 2 3]\n",
      " [4 5 6]]\n"
     ]
    }
   ],
   "source": [
    "# Shape of np array\n",
    "\n",
    "arr = np.array([[1,2,3],[4,5,6]])\n",
    "print(\"The np array arr is\\n\",arr)"
   ]
  },
  {
   "cell_type": "code",
   "execution_count": 55,
   "metadata": {
    "colab": {
     "base_uri": "https://localhost:8080/"
    },
    "id": "JrRR0gSu1GOh",
    "outputId": "51d5cbe2-85de-4b38-b4d0-3644c422de73"
   },
   "outputs": [
    {
     "name": "stdout",
     "output_type": "stream",
     "text": [
      "The Number of Dimensions of arr is 2\n"
     ]
    }
   ],
   "source": [
    "print(\"The Number of Dimensions of arr is\",arr.ndim)"
   ]
  },
  {
   "cell_type": "code",
   "execution_count": 56,
   "metadata": {
    "colab": {
     "base_uri": "https://localhost:8080/"
    },
    "id": "PrY0hhKtzzu6",
    "outputId": "fdc8c461-2fa4-4464-c313-484cf7e65ea2"
   },
   "outputs": [
    {
     "name": "stdout",
     "output_type": "stream",
     "text": [
      "Shape of arr is (2, 3)\n"
     ]
    }
   ],
   "source": [
    "print(\"Shape of arr is\",arr.shape)"
   ]
  },
  {
   "cell_type": "code",
   "execution_count": 57,
   "metadata": {
    "colab": {
     "base_uri": "https://localhost:8080/"
    },
    "id": "oouMS9LrvaSd",
    "outputId": "8635f118-cd23-41e7-f680-162e9cac3776"
   },
   "outputs": [
    {
     "name": "stdout",
     "output_type": "stream",
     "text": [
      "The Shape of Original Numpy Array is (3, 4)\n",
      "The Original Numpy Array is\n",
      " [[0. 0. 0. 0.]\n",
      " [0. 0. 0. 0.]\n",
      " [0. 0. 0. 0.]]\n",
      "The Shape of Reshaped Numpy Array is (2, 6)\n",
      "The Numpy Array after Reshaping looks like this\n",
      " [[0. 0. 0. 0. 0. 0.]\n",
      " [0. 0. 0. 0. 0. 0.]]\n"
     ]
    }
   ],
   "source": [
    "# Reshape\n",
    "\n",
    "arr = np.zeros((3,4))\n",
    "print(\"The Shape of Original Numpy Array is\",arr.shape)\n",
    "print(\"The Original Numpy Array is\\n\",arr)\n",
    "\n",
    "# np.reshape\n",
    "# Reshapes the Given np array into given shape if possible\n",
    "a = np.reshape(arr,(2,6))\n",
    "print(\"The Shape of Reshaped Numpy Array is\",a.shape)\n",
    "print(\"The Numpy Array after Reshaping looks like this\\n\",a)"
   ]
  },
  {
   "cell_type": "markdown",
   "metadata": {
    "id": "MLp_dA1xIrj0"
   },
   "source": [
    "###Now we will look at some functions to add and multiply two matrices"
   ]
  },
  {
   "cell_type": "code",
   "execution_count": 58,
   "metadata": {
    "colab": {
     "base_uri": "https://localhost:8080/"
    },
    "id": "UzbQSAZTQvVv",
    "outputId": "e07ce37a-58db-49f7-c82c-7c02206cbe6d"
   },
   "outputs": [
    {
     "name": "stdout",
     "output_type": "stream",
     "text": [
      "arr1 [[1 3]\n",
      " [2 4]]\n",
      "arr2 [[ 1 -1]\n",
      " [-1  1]]\n",
      "Result of matrix multiplication\n",
      "[[-2  2]\n",
      " [-2  2]]\n"
     ]
    }
   ],
   "source": [
    "# Transformations 2\n",
    "# matmul\n",
    "\n",
    "arr1 = np.array([[1 ,3],[2, 4]])\n",
    "arr2 = np.array([[1, -1],[-1, 1]])\n",
    "\n",
    "print(\"arr1\",arr1)\n",
    "print(\"arr2\",arr2)\n",
    "\n",
    "#Matrix Multiplication on two compatible matrices\n",
    "mul = np.matmul(arr1,arr2)\n",
    "print(\"Result of matrix multiplication\")\n",
    "print(mul)"
   ]
  },
  {
   "cell_type": "code",
   "execution_count": 59,
   "metadata": {
    "colab": {
     "base_uri": "https://localhost:8080/"
    },
    "id": "kCr5NRdFzQvu",
    "outputId": "4c80dcd8-1175-4b11-f262-cd8d3b6c951a"
   },
   "outputs": [
    {
     "name": "stdout",
     "output_type": "stream",
     "text": [
      "arr1 [[1 3]\n",
      " [2 4]]\n",
      "arr2 [[ 1 -1]\n",
      " [-1  1]]\n",
      "Result of matrix multiplication\n",
      "[[-2  2]\n",
      " [-2  2]]\n"
     ]
    }
   ],
   "source": [
    "# @\n",
    "\n",
    "arr1 = np.array([[1 ,3],[2, 4]])\n",
    "arr2 = np.array([[1, -1],[-1, 1]])\n",
    "\n",
    "print(\"arr1\",arr1)\n",
    "print(\"arr2\",arr2)\n",
    "\n",
    "#Matrix Multiplication on two compatible matrices\n",
    "mul = arr1@arr2\n",
    "print(\"Result of matrix multiplication\")\n",
    "print(mul)"
   ]
  },
  {
   "cell_type": "markdown",
   "metadata": {
    "id": "bMVfr3LxIyeB"
   },
   "source": [
    "###There are functions to calculate matrix properties like trace, determinant and rank. These are incredibly helpful as they perform lots of computations with just one line of code."
   ]
  },
  {
   "cell_type": "code",
   "execution_count": 60,
   "metadata": {
    "colab": {
     "base_uri": "https://localhost:8080/"
    },
    "id": "GVih2UNTzS2y",
    "outputId": "354671d4-faad-4786-e6d8-8e78b9edb8f1"
   },
   "outputs": [
    {
     "name": "stdout",
     "output_type": "stream",
     "text": [
      "The Matrix is\n",
      " [[1 2 3]\n",
      " [4 5 6]\n",
      " [7 8 9]]\n",
      "Trace of the Matrix is 15\n",
      "Determinant of Matrix is 0.0\n",
      "Transpose of the Matrix is\n",
      " [[1 4 7]\n",
      " [2 5 8]\n",
      " [3 6 9]]\n",
      "Rank of Matrix is 2\n"
     ]
    }
   ],
   "source": [
    "#Transformations 3\n",
    "\n",
    "mat = np.array([[1,2,3],[4,5,6],[7,8,9]])\n",
    "print(\"The Matrix is\\n\",mat)\n",
    "# Trace of Matrix\n",
    "trace = np.trace(mat)\n",
    "print(\"Trace of the Matrix is\",trace)\n",
    "\n",
    "# Determinant of Matrix\n",
    "det = np.linalg.det(mat)\n",
    "print(\"Determinant of Matrix is\",det)\n",
    "\n",
    "# Transpose of Matrix\n",
    "mat_t = mat.T\n",
    "print(\"Transpose of the Matrix is\\n\",mat_t)\n",
    "\n",
    "# Rank of Matrix\n",
    "rank = np.linalg.matrix_rank(mat)\n",
    "print(\"Rank of Matrix is\",rank)"
   ]
  },
  {
   "cell_type": "markdown",
   "metadata": {
    "id": "bq-zaYsOJBoe"
   },
   "source": [
    "###Finally, lets look at matrix transformations like transpose, inverse, exponentiation and norm."
   ]
  },
  {
   "cell_type": "code",
   "execution_count": 61,
   "metadata": {
    "colab": {
     "base_uri": "https://localhost:8080/"
    },
    "id": "iLg--vzzzWfc",
    "outputId": "649b202d-4566-40be-8a60-4aecc604a165"
   },
   "outputs": [
    {
     "name": "stdout",
     "output_type": "stream",
     "text": [
      "The Matrix is\n",
      " [[1 2 3]\n",
      " [0 1 4]\n",
      " [5 6 0]]\n",
      "[[-24.  18.   5.]\n",
      " [ 20. -15.  -4.]\n",
      " [ -5.   4.   1.]]\n"
     ]
    }
   ],
   "source": [
    "#Transformations 4\n",
    "\n",
    "mat = np.array([[1,2,3],[0,1,4],[5,6,0]])\n",
    "print(\"The Matrix is\\n\",mat)\n",
    "\n",
    "mat_inv = np.linalg.inv(mat)\n",
    "print(mat_inv)"
   ]
  },
  {
   "cell_type": "code",
   "execution_count": 62,
   "metadata": {
    "colab": {
     "base_uri": "https://localhost:8080/"
    },
    "id": "-Y1aeuBORa12",
    "outputId": "c3c296a0-89af-47e0-f0e6-69a97ed695ed"
   },
   "outputs": [
    {
     "name": "stdout",
     "output_type": "stream",
     "text": [
      "[[ 71 120 136]\n",
      " [ 40  89 160]\n",
      " [200 260  79]]\n"
     ]
    }
   ],
   "source": [
    "# Matrix Power\n",
    "mat_cube = np.linalg.matrix_power(mat,3)\n",
    "print(mat_cube)"
   ]
  },
  {
   "cell_type": "markdown",
   "metadata": {
    "id": "C9QynNQyJ3Ik"
   },
   "source": [
    "###It has some useful statistical functions like mean, variance and standard deviation. "
   ]
  },
  {
   "cell_type": "code",
   "execution_count": 63,
   "metadata": {
    "colab": {
     "base_uri": "https://localhost:8080/"
    },
    "id": "ryXLQtuS9CNz",
    "outputId": "a9103a58-120b-4c27-aa02-ee2977e27e8c"
   },
   "outputs": [
    {
     "name": "stdout",
     "output_type": "stream",
     "text": [
      "The Matrix is\n",
      " [[1 2 3]\n",
      " [0 1 4]\n",
      " [5 6 0]]\n",
      "The Mean along axis=1 is [2.         1.66666667 3.66666667]\n",
      "The Median along axis=1 is [2. 1. 5.]\n",
      "The Variance along axis=1 is [0.66666667 2.88888889 6.88888889]\n",
      "The Standard Deviation along axis=1 is [0.81649658 1.69967317 2.62466929]\n"
     ]
    }
   ],
   "source": [
    "# Math Functions in Matrices\n",
    "mat = np.array([[1,2,3],[0,1,4],[5,6,0]])\n",
    "print(\"The Matrix is\\n\",mat)\n",
    "\n",
    "# Mean along an Axis\n",
    "mean = np.mean(mat,axis=1)\n",
    "print(\"The Mean along axis=1 is\",mean)\n",
    "\n",
    "# Median along an Axis\n",
    "median = np.median(mat,axis=1)\n",
    "print(\"The Median along axis=1 is\",median)\n",
    "\n",
    "# Variance along an Axis\n",
    "var = np.var(mat,axis=1)\n",
    "print(\"The Variance along axis=1 is\",var)\n",
    "\n",
    "# Standard Deviation along an Axis\n",
    "std = np.std(mat,axis=1)\n",
    "print(\"The Standard Deviation along axis=1 is\",std)"
   ]
  },
  {
   "cell_type": "code",
   "execution_count": 64,
   "metadata": {
    "colab": {
     "base_uri": "https://localhost:8080/"
    },
    "id": "tYGwAdE2EFVO",
    "outputId": "7aa37b26-60f7-4118-d2c8-9c8997ebb729"
   },
   "outputs": [
    {
     "name": "stdout",
     "output_type": "stream",
     "text": [
      "The Original Matrix is\n",
      " [[[0]\n",
      "  [1]\n",
      "  [2]]]\n",
      "The Squeezed Matrix is\n",
      " [[0]\n",
      " [1]\n",
      " [2]]\n",
      "The Expanded Matrix is\n",
      " [[[0]\n",
      "  [1]\n",
      "  [2]]]\n"
     ]
    }
   ],
   "source": [
    "# Squeeze and Expand-Dims\n",
    "\n",
    "x = np.array([[[0], [1], [2]]])\n",
    "print(\"The Original Matrix is\\n\",x)\n",
    "\n",
    "# Squeeze\n",
    "y = np.squeeze(x,axis=0)\n",
    "print(\"The Squeezed Matrix is\\n\",y)\n",
    "\n",
    "# Expand Dims\n",
    "z = np.expand_dims(y,axis=0)\n",
    "print(\"The Expanded Matrix is\\n\",z)"
   ]
  },
  {
   "cell_type": "code",
   "execution_count": 65,
   "metadata": {
    "colab": {
     "base_uri": "https://localhost:8080/"
    },
    "id": "Lycs7AP_EUdO",
    "outputId": "f02a1928-32e5-41d1-92e7-d97e04368a51"
   },
   "outputs": [
    {
     "name": "stdout",
     "output_type": "stream",
     "text": [
      "[[0]\n",
      " [1]\n",
      " [2]]\n"
     ]
    }
   ],
   "source": [
    "print(np.squeeze(x,axis=0))"
   ]
  },
  {
   "cell_type": "markdown",
   "metadata": {
    "id": "kFZGxkf_NHFF"
   },
   "source": [
    "###Solving linear equations can be tiresome and time consuming, its impossible when the number of equations becomes high. Numpy can get it done efficiently with matrices. "
   ]
  },
  {
   "cell_type": "code",
   "execution_count": 66,
   "metadata": {
    "colab": {
     "base_uri": "https://localhost:8080/"
    },
    "id": "99qRU8SACNAx",
    "outputId": "ff9f7a61-3031-414c-9837-d274af9980aa"
   },
   "outputs": [
    {
     "name": "stdout",
     "output_type": "stream",
     "text": [
      "Matrix A is\n",
      " [[1 2]\n",
      " [3 5]]\n",
      "Vector B is [1 2]\n",
      "X is  [-1.  1.]\n"
     ]
    }
   ],
   "source": [
    "# Solving Linear Equations\n",
    "\n",
    "#A\n",
    "A = np.array([[1,2],[3,5]])\n",
    "print(\"Matrix A is\\n\",A)\n",
    "#B\n",
    "B = np.array([1,2])\n",
    "print(\"Vector B is\",B)\n",
    "\n",
    "X = np.linalg.solve(A,B)\n",
    "print(\"X is \",X)\n",
    "\n",
    "# Given A and B, Find X such that AX = B"
   ]
  },
  {
   "cell_type": "markdown",
   "metadata": {
    "id": "RccHENEPNXpJ"
   },
   "source": [
    "###Stacking matrices in a new dimension has many uses. This can be implemented with the numpy stack function."
   ]
  },
  {
   "cell_type": "code",
   "execution_count": 67,
   "metadata": {
    "colab": {
     "base_uri": "https://localhost:8080/"
    },
    "id": "G3CTqv0KyENf",
    "outputId": "1f1247fd-9c40-41b7-d56e-25ec7416ae93"
   },
   "outputs": [
    {
     "name": "stdout",
     "output_type": "stream",
     "text": [
      "The Stacked Matrix is\n",
      " [[[1 2]\n",
      "  [5 6]]\n",
      "\n",
      " [[3 4]\n",
      "  [7 8]]]\n"
     ]
    }
   ],
   "source": [
    "# Stack\n",
    "mat1 = np.array([[1,2],[3,4]])\n",
    "mat2 = np.array([[5,6],[7,8]])\n",
    "\n",
    "stacked_mat = np.stack([mat1,mat2],axis=1)\n",
    "print(\"The Stacked Matrix is\\n\",stacked_mat)"
   ]
  },
  {
   "cell_type": "markdown",
   "metadata": {
    "id": "okmw680BNge8"
   },
   "source": [
    "###Alright! Now we have a fun exercise for you, implement what you've learnt, follow the instructions below and have fun. "
   ]
  },
  {
   "cell_type": "code",
   "execution_count": null,
   "metadata": {
    "colab": {
     "base_uri": "https://localhost:8080/"
    },
    "id": "TM83i-uwO9GM",
    "outputId": "c42c48c4-6af6-4861-c0bd-880ea88b4dc9"
   },
   "outputs": [],
   "source": []
  },
  {
   "cell_type": "code",
   "execution_count": 76,
   "metadata": {
    "id": "8mNBmEz9PY-X"
   },
   "outputs": [],
   "source": []
  },
  {
   "cell_type": "markdown",
   "metadata": {
    "id": "YnzUyGhoOFbR"
   },
   "source": [
    "###Lets begin! you can look at the codes above for reference. "
   ]
  },
  {
   "cell_type": "code",
   "execution_count": 77,
   "metadata": {
    "id": "LV2RXUa3Rfoi"
   },
   "outputs": [],
   "source": []
  },
  {
   "cell_type": "code",
   "execution_count": 79,
   "metadata": {
    "id": "M46etTQnRsbS"
   },
   "outputs": [],
   "source": []
  },
  {
   "cell_type": "code",
   "execution_count": 78,
   "metadata": {
    "id": "kOHKPQqaR1ON"
   },
   "outputs": [],
   "source": []
  },
  {
   "cell_type": "code",
   "execution_count": 80,
   "metadata": {
    "id": "74BIYFkoSGss"
   },
   "outputs": [],
   "source": []
  },
  {
   "cell_type": "code",
   "execution_count": 68,
   "metadata": {
    "colab": {
     "base_uri": "https://localhost:8080/",
     "height": 286
    },
    "id": "MY1qq9mDQTQy",
    "outputId": "c8c2047f-a947-4149-9393-8d7eb5e1d4cb"
   },
   "outputs": [
    {
     "name": "stdout",
     "output_type": "stream",
     "text": [
      "On branch main\n",
      "Your branch is ahead of 'origin/main' by 1 commit.\n",
      "  (use \"git push\" to publish your local commits)\n",
      "\n",
      "Untracked files:\n",
      "  (use \"git add <file>...\" to include in what will be committed)\n",
      "\t.gitignore\n",
      "\t.ipynb_checkpoints/\n",
      "\tEpoch Session 1 - Python for ML .ipynb\n",
      "\tEpoch Session 1 - Python for ML .pptx\n",
      "\texercise/\n",
      "\n",
      "nothing added to commit but untracked files present (use \"git add\" to track)\n"
     ]
    }
   ],
   "source": [
    "!git status"
   ]
  },
  {
   "cell_type": "code",
   "execution_count": 69,
   "metadata": {},
   "outputs": [
    {
     "name": "stderr",
     "output_type": "stream",
     "text": [
      "warning: in the working copy of '.ipynb_checkpoints/Epoch Session 1 - Python for ML -checkpoint.ipynb', LF will be replaced by CRLF the next time Git touches it\n",
      "warning: in the working copy of 'Epoch Session 1 - Python for ML .ipynb', LF will be replaced by CRLF the next time Git touches it\n"
     ]
    }
   ],
   "source": [
    "!git add ."
   ]
  },
  {
   "cell_type": "code",
   "execution_count": 70,
   "metadata": {},
   "outputs": [
    {
     "name": "stdout",
     "output_type": "stream",
     "text": [
      "[main 9e8f6d2] pptx and notebook added\n",
      " 8 files changed, 5402 insertions(+)\n",
      " create mode 100644 .gitignore\n",
      " create mode 100644 .ipynb_checkpoints/Epoch Session 1 - Python for ML -checkpoint.ipynb\n",
      " create mode 100644 Epoch Session 1 - Python for ML .ipynb\n",
      " create mode 100644 Epoch Session 1 - Python for ML .pptx\n",
      " create mode 100644 exercise/a1.npy\n",
      " create mode 100644 exercise/a2.npy\n",
      " create mode 100644 exercise/b.npy\n",
      " create mode 100644 exercise/c.npy\n"
     ]
    }
   ],
   "source": [
    "!git commit -m \"pptx and notebook added\""
   ]
  },
  {
   "cell_type": "code",
   "execution_count": 71,
   "metadata": {},
   "outputs": [
    {
     "name": "stderr",
     "output_type": "stream",
     "text": [
      "To https://github.com/EPOCH-NSAKCET/PYTHON-FOR-ML.git\n",
      "   e839ae1..9e8f6d2  main -> main\n"
     ]
    }
   ],
   "source": [
    "!git push"
   ]
  },
  {
   "cell_type": "code",
   "execution_count": null,
   "metadata": {},
   "outputs": [],
   "source": []
  }
 ],
 "metadata": {
  "colab": {
   "provenance": []
  },
  "kernelspec": {
   "display_name": "Python 3 (ipykernel)",
   "language": "python",
   "name": "python3"
  },
  "language_info": {
   "codemirror_mode": {
    "name": "ipython",
    "version": 3
   },
   "file_extension": ".py",
   "mimetype": "text/x-python",
   "name": "python",
   "nbconvert_exporter": "python",
   "pygments_lexer": "ipython3",
   "version": "3.11.1"
  }
 },
 "nbformat": 4,
 "nbformat_minor": 4
}
